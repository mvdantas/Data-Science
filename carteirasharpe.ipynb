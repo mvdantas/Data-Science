{
  "nbformat": 4,
  "nbformat_minor": 0,
  "metadata": {
    "colab": {
      "name": "carteirasharpe.ipynb",
      "provenance": [],
      "authorship_tag": "ABX9TyPpOSVea50WHCrSBSFkrD8u",
      "include_colab_link": true
    },
    "kernelspec": {
      "name": "python3",
      "display_name": "Python 3"
    },
    "language_info": {
      "name": "python"
    }
  },
  "cells": [
    {
      "cell_type": "markdown",
      "metadata": {
        "id": "view-in-github",
        "colab_type": "text"
      },
      "source": [
        "<a href=\"https://colab.research.google.com/github/mvdantas/Data-Science/blob/master/carteirasharpe.ipynb\" target=\"_parent\"><img src=\"https://colab.research.google.com/assets/colab-badge.svg\" alt=\"Open In Colab\"/></a>"
      ]
    },
    {
      "cell_type": "code",
      "metadata": {
        "colab": {
          "base_uri": "https://localhost:8080/"
        },
        "id": "MR_pHywkiijH",
        "outputId": "0323d34e-31a5-484e-dd0b-e840f58eb2be"
      },
      "source": [
        "pip install yfinance"
      ],
      "execution_count": null,
      "outputs": [
        {
          "output_type": "stream",
          "name": "stdout",
          "text": [
            "Collecting yfinance\n",
            "  Downloading yfinance-0.1.63.tar.gz (26 kB)\n",
            "Requirement already satisfied: pandas>=0.24 in /usr/local/lib/python3.7/dist-packages (from yfinance) (1.1.5)\n",
            "Requirement already satisfied: numpy>=1.15 in /usr/local/lib/python3.7/dist-packages (from yfinance) (1.19.5)\n",
            "Requirement already satisfied: requests>=2.20 in /usr/local/lib/python3.7/dist-packages (from yfinance) (2.23.0)\n",
            "Requirement already satisfied: multitasking>=0.0.7 in /usr/local/lib/python3.7/dist-packages (from yfinance) (0.0.9)\n",
            "Collecting lxml>=4.5.1\n",
            "  Downloading lxml-4.6.3-cp37-cp37m-manylinux2014_x86_64.whl (6.3 MB)\n",
            "\u001b[K     |████████████████████████████████| 6.3 MB 7.6 MB/s \n",
            "\u001b[?25hRequirement already satisfied: python-dateutil>=2.7.3 in /usr/local/lib/python3.7/dist-packages (from pandas>=0.24->yfinance) (2.8.2)\n",
            "Requirement already satisfied: pytz>=2017.2 in /usr/local/lib/python3.7/dist-packages (from pandas>=0.24->yfinance) (2018.9)\n",
            "Requirement already satisfied: six>=1.5 in /usr/local/lib/python3.7/dist-packages (from python-dateutil>=2.7.3->pandas>=0.24->yfinance) (1.15.0)\n",
            "Requirement already satisfied: certifi>=2017.4.17 in /usr/local/lib/python3.7/dist-packages (from requests>=2.20->yfinance) (2021.5.30)\n",
            "Requirement already satisfied: urllib3!=1.25.0,!=1.25.1,<1.26,>=1.21.1 in /usr/local/lib/python3.7/dist-packages (from requests>=2.20->yfinance) (1.24.3)\n",
            "Requirement already satisfied: idna<3,>=2.5 in /usr/local/lib/python3.7/dist-packages (from requests>=2.20->yfinance) (2.10)\n",
            "Requirement already satisfied: chardet<4,>=3.0.2 in /usr/local/lib/python3.7/dist-packages (from requests>=2.20->yfinance) (3.0.4)\n",
            "Building wheels for collected packages: yfinance\n",
            "  Building wheel for yfinance (setup.py) ... \u001b[?25l\u001b[?25hdone\n",
            "  Created wheel for yfinance: filename=yfinance-0.1.63-py2.py3-none-any.whl size=23918 sha256=02e5efbb8af7b1a15c17af5759f3ceab67d043754cb725dd857c71e01fddd796\n",
            "  Stored in directory: /root/.cache/pip/wheels/fe/87/8b/7ec24486e001d3926537f5f7801f57a74d181be25b11157983\n",
            "Successfully built yfinance\n",
            "Installing collected packages: lxml, yfinance\n",
            "  Attempting uninstall: lxml\n",
            "    Found existing installation: lxml 4.2.6\n",
            "    Uninstalling lxml-4.2.6:\n",
            "      Successfully uninstalled lxml-4.2.6\n",
            "Successfully installed lxml-4.6.3 yfinance-0.1.63\n"
          ]
        }
      ]
    },
    {
      "cell_type": "code",
      "metadata": {
        "id": "WzoR3pn3h6Fp"
      },
      "source": [
        "import pandas as pd\n",
        "import numpy as np\n",
        "import matplotlib.pyplot as plt\n",
        "from pandas_datareader import data as wb\n",
        "import yfinance as yf"
      ],
      "execution_count": null,
      "outputs": []
    },
    {
      "cell_type": "code",
      "metadata": {
        "id": "nzbyunAth8FX"
      },
      "source": [
        "tickers = ['CSAN3.SA', 'VALE3.SA', 'LOGN3.SA', 'SBFG3.SA', 'RRRP3.SA', 'SEQL3.SA','PGMN3.SA']"
      ],
      "execution_count": null,
      "outputs": []
    },
    {
      "cell_type": "code",
      "metadata": {
        "colab": {
          "base_uri": "https://localhost:8080/",
          "height": 252
        },
        "id": "qHXzvvediFQm",
        "outputId": "f682b32b-3b80-488e-f745-44dbf7620075"
      },
      "source": [
        "carteira = yf.download(tickers, '2016-08-28')['Adj Close']\n",
        "carteira.head()"
      ],
      "execution_count": null,
      "outputs": [
        {
          "output_type": "stream",
          "name": "stdout",
          "text": [
            "[*********************100%***********************]  7 of 7 completed\n"
          ]
        },
        {
          "output_type": "execute_result",
          "data": {
            "text/html": [
              "<div>\n",
              "<style scoped>\n",
              "    .dataframe tbody tr th:only-of-type {\n",
              "        vertical-align: middle;\n",
              "    }\n",
              "\n",
              "    .dataframe tbody tr th {\n",
              "        vertical-align: top;\n",
              "    }\n",
              "\n",
              "    .dataframe thead th {\n",
              "        text-align: right;\n",
              "    }\n",
              "</style>\n",
              "<table border=\"1\" class=\"dataframe\">\n",
              "  <thead>\n",
              "    <tr style=\"text-align: right;\">\n",
              "      <th></th>\n",
              "      <th>CSAN3.SA</th>\n",
              "      <th>LOGN3.SA</th>\n",
              "      <th>PGMN3.SA</th>\n",
              "      <th>RRRP3.SA</th>\n",
              "      <th>SBFG3.SA</th>\n",
              "      <th>SEQL3.SA</th>\n",
              "      <th>VALE3.SA</th>\n",
              "    </tr>\n",
              "    <tr>\n",
              "      <th>Date</th>\n",
              "      <th></th>\n",
              "      <th></th>\n",
              "      <th></th>\n",
              "      <th></th>\n",
              "      <th></th>\n",
              "      <th></th>\n",
              "      <th></th>\n",
              "    </tr>\n",
              "  </thead>\n",
              "  <tbody>\n",
              "    <tr>\n",
              "      <th>2016-08-29</th>\n",
              "      <td>8.054404</td>\n",
              "      <td>3.942031</td>\n",
              "      <td>NaN</td>\n",
              "      <td>NaN</td>\n",
              "      <td>NaN</td>\n",
              "      <td>NaN</td>\n",
              "      <td>14.529390</td>\n",
              "    </tr>\n",
              "    <tr>\n",
              "      <th>2016-08-30</th>\n",
              "      <td>8.483532</td>\n",
              "      <td>3.811211</td>\n",
              "      <td>NaN</td>\n",
              "      <td>NaN</td>\n",
              "      <td>NaN</td>\n",
              "      <td>NaN</td>\n",
              "      <td>14.168159</td>\n",
              "    </tr>\n",
              "    <tr>\n",
              "      <th>2016-08-31</th>\n",
              "      <td>8.278872</td>\n",
              "      <td>3.802490</td>\n",
              "      <td>NaN</td>\n",
              "      <td>NaN</td>\n",
              "      <td>NaN</td>\n",
              "      <td>NaN</td>\n",
              "      <td>13.598224</td>\n",
              "    </tr>\n",
              "    <tr>\n",
              "      <th>2016-09-01</th>\n",
              "      <td>8.281072</td>\n",
              "      <td>4.011801</td>\n",
              "      <td>NaN</td>\n",
              "      <td>NaN</td>\n",
              "      <td>NaN</td>\n",
              "      <td>NaN</td>\n",
              "      <td>13.999589</td>\n",
              "    </tr>\n",
              "    <tr>\n",
              "      <th>2016-09-02</th>\n",
              "      <td>8.369099</td>\n",
              "      <td>3.880982</td>\n",
              "      <td>NaN</td>\n",
              "      <td>NaN</td>\n",
              "      <td>NaN</td>\n",
              "      <td>NaN</td>\n",
              "      <td>14.641772</td>\n",
              "    </tr>\n",
              "  </tbody>\n",
              "</table>\n",
              "</div>"
            ],
            "text/plain": [
              "            CSAN3.SA  LOGN3.SA  PGMN3.SA  ...  SBFG3.SA  SEQL3.SA   VALE3.SA\n",
              "Date                                      ...                               \n",
              "2016-08-29  8.054404  3.942031       NaN  ...       NaN       NaN  14.529390\n",
              "2016-08-30  8.483532  3.811211       NaN  ...       NaN       NaN  14.168159\n",
              "2016-08-31  8.278872  3.802490       NaN  ...       NaN       NaN  13.598224\n",
              "2016-09-01  8.281072  4.011801       NaN  ...       NaN       NaN  13.999589\n",
              "2016-09-02  8.369099  3.880982       NaN  ...       NaN       NaN  14.641772\n",
              "\n",
              "[5 rows x 7 columns]"
            ]
          },
          "metadata": {},
          "execution_count": 4
        }
      ]
    },
    {
      "cell_type": "code",
      "metadata": {
        "colab": {
          "base_uri": "https://localhost:8080/",
          "height": 297
        },
        "id": "tnEh71I5iZFt",
        "outputId": "ccaa3ad3-ede0-44a9-cff3-6df04a65739e"
      },
      "source": [
        "carteira.describe()"
      ],
      "execution_count": null,
      "outputs": [
        {
          "output_type": "execute_result",
          "data": {
            "text/html": [
              "<div>\n",
              "<style scoped>\n",
              "    .dataframe tbody tr th:only-of-type {\n",
              "        vertical-align: middle;\n",
              "    }\n",
              "\n",
              "    .dataframe tbody tr th {\n",
              "        vertical-align: top;\n",
              "    }\n",
              "\n",
              "    .dataframe thead th {\n",
              "        text-align: right;\n",
              "    }\n",
              "</style>\n",
              "<table border=\"1\" class=\"dataframe\">\n",
              "  <thead>\n",
              "    <tr style=\"text-align: right;\">\n",
              "      <th></th>\n",
              "      <th>CSAN3.SA</th>\n",
              "      <th>LOGN3.SA</th>\n",
              "      <th>PGMN3.SA</th>\n",
              "      <th>RRRP3.SA</th>\n",
              "      <th>SBFG3.SA</th>\n",
              "      <th>SEQL3.SA</th>\n",
              "      <th>VALE3.SA</th>\n",
              "    </tr>\n",
              "  </thead>\n",
              "  <tbody>\n",
              "    <tr>\n",
              "      <th>count</th>\n",
              "      <td>1242.000000</td>\n",
              "      <td>1241.000000</td>\n",
              "      <td>243.000000</td>\n",
              "      <td>195.000000</td>\n",
              "      <td>587.000000</td>\n",
              "      <td>219.000000</td>\n",
              "      <td>1242.000000</td>\n",
              "    </tr>\n",
              "    <tr>\n",
              "      <th>mean</th>\n",
              "      <td>12.971574</td>\n",
              "      <td>9.930113</td>\n",
              "      <td>10.207901</td>\n",
              "      <td>38.135846</td>\n",
              "      <td>27.421482</td>\n",
              "      <td>23.228402</td>\n",
              "      <td>47.510728</td>\n",
              "    </tr>\n",
              "    <tr>\n",
              "      <th>std</th>\n",
              "      <td>5.325831</td>\n",
              "      <td>6.874506</td>\n",
              "      <td>1.512205</td>\n",
              "      <td>6.304814</td>\n",
              "      <td>8.261166</td>\n",
              "      <td>4.947389</td>\n",
              "      <td>24.691332</td>\n",
              "    </tr>\n",
              "    <tr>\n",
              "      <th>min</th>\n",
              "      <td>6.967356</td>\n",
              "      <td>2.130000</td>\n",
              "      <td>7.940000</td>\n",
              "      <td>20.799999</td>\n",
              "      <td>11.000000</td>\n",
              "      <td>12.300000</td>\n",
              "      <td>13.060396</td>\n",
              "    </tr>\n",
              "    <tr>\n",
              "      <th>25%</th>\n",
              "      <td>8.637328</td>\n",
              "      <td>3.165834</td>\n",
              "      <td>9.075000</td>\n",
              "      <td>35.330000</td>\n",
              "      <td>23.250000</td>\n",
              "      <td>20.445000</td>\n",
              "      <td>29.560081</td>\n",
              "    </tr>\n",
              "    <tr>\n",
              "      <th>50%</th>\n",
              "      <td>10.407489</td>\n",
              "      <td>8.320000</td>\n",
              "      <td>9.800000</td>\n",
              "      <td>38.849998</td>\n",
              "      <td>27.400000</td>\n",
              "      <td>24.000000</td>\n",
              "      <td>43.167242</td>\n",
              "    </tr>\n",
              "    <tr>\n",
              "      <th>75%</th>\n",
              "      <td>17.361049</td>\n",
              "      <td>16.020000</td>\n",
              "      <td>11.715000</td>\n",
              "      <td>42.000000</td>\n",
              "      <td>32.480001</td>\n",
              "      <td>27.045000</td>\n",
              "      <td>50.463523</td>\n",
              "    </tr>\n",
              "    <tr>\n",
              "      <th>max</th>\n",
              "      <td>27.200001</td>\n",
              "      <td>25.700001</td>\n",
              "      <td>13.650000</td>\n",
              "      <td>49.000000</td>\n",
              "      <td>50.930000</td>\n",
              "      <td>31.250000</td>\n",
              "      <td>117.300003</td>\n",
              "    </tr>\n",
              "  </tbody>\n",
              "</table>\n",
              "</div>"
            ],
            "text/plain": [
              "          CSAN3.SA     LOGN3.SA  ...    SEQL3.SA     VALE3.SA\n",
              "count  1242.000000  1241.000000  ...  219.000000  1242.000000\n",
              "mean     12.971574     9.930113  ...   23.228402    47.510728\n",
              "std       5.325831     6.874506  ...    4.947389    24.691332\n",
              "min       6.967356     2.130000  ...   12.300000    13.060396\n",
              "25%       8.637328     3.165834  ...   20.445000    29.560081\n",
              "50%      10.407489     8.320000  ...   24.000000    43.167242\n",
              "75%      17.361049    16.020000  ...   27.045000    50.463523\n",
              "max      27.200001    25.700001  ...   31.250000   117.300003\n",
              "\n",
              "[8 rows x 7 columns]"
            ]
          },
          "metadata": {},
          "execution_count": 5
        }
      ]
    },
    {
      "cell_type": "code",
      "metadata": {
        "colab": {
          "base_uri": "https://localhost:8080/",
          "height": 235
        },
        "id": "JZuaYInbisGd",
        "outputId": "7ad8ba97-8827-4136-d6d0-660e4e10a0ac"
      },
      "source": [
        "carteira_retorno = carteira.pct_change()\n",
        "carteira_retorno.head()"
      ],
      "execution_count": null,
      "outputs": [
        {
          "output_type": "execute_result",
          "data": {
            "text/html": [
              "<div>\n",
              "<style scoped>\n",
              "    .dataframe tbody tr th:only-of-type {\n",
              "        vertical-align: middle;\n",
              "    }\n",
              "\n",
              "    .dataframe tbody tr th {\n",
              "        vertical-align: top;\n",
              "    }\n",
              "\n",
              "    .dataframe thead th {\n",
              "        text-align: right;\n",
              "    }\n",
              "</style>\n",
              "<table border=\"1\" class=\"dataframe\">\n",
              "  <thead>\n",
              "    <tr style=\"text-align: right;\">\n",
              "      <th></th>\n",
              "      <th>CSAN3.SA</th>\n",
              "      <th>LOGN3.SA</th>\n",
              "      <th>PGMN3.SA</th>\n",
              "      <th>RRRP3.SA</th>\n",
              "      <th>SBFG3.SA</th>\n",
              "      <th>SEQL3.SA</th>\n",
              "      <th>VALE3.SA</th>\n",
              "    </tr>\n",
              "    <tr>\n",
              "      <th>Date</th>\n",
              "      <th></th>\n",
              "      <th></th>\n",
              "      <th></th>\n",
              "      <th></th>\n",
              "      <th></th>\n",
              "      <th></th>\n",
              "      <th></th>\n",
              "    </tr>\n",
              "  </thead>\n",
              "  <tbody>\n",
              "    <tr>\n",
              "      <th>2016-08-29</th>\n",
              "      <td>NaN</td>\n",
              "      <td>NaN</td>\n",
              "      <td>NaN</td>\n",
              "      <td>NaN</td>\n",
              "      <td>NaN</td>\n",
              "      <td>NaN</td>\n",
              "      <td>NaN</td>\n",
              "    </tr>\n",
              "    <tr>\n",
              "      <th>2016-08-30</th>\n",
              "      <td>0.053279</td>\n",
              "      <td>-0.033186</td>\n",
              "      <td>NaN</td>\n",
              "      <td>NaN</td>\n",
              "      <td>NaN</td>\n",
              "      <td>NaN</td>\n",
              "      <td>-0.024862</td>\n",
              "    </tr>\n",
              "    <tr>\n",
              "      <th>2016-08-31</th>\n",
              "      <td>-0.024124</td>\n",
              "      <td>-0.002288</td>\n",
              "      <td>NaN</td>\n",
              "      <td>NaN</td>\n",
              "      <td>NaN</td>\n",
              "      <td>NaN</td>\n",
              "      <td>-0.040227</td>\n",
              "    </tr>\n",
              "    <tr>\n",
              "      <th>2016-09-01</th>\n",
              "      <td>0.000266</td>\n",
              "      <td>0.055046</td>\n",
              "      <td>NaN</td>\n",
              "      <td>NaN</td>\n",
              "      <td>NaN</td>\n",
              "      <td>NaN</td>\n",
              "      <td>0.029516</td>\n",
              "    </tr>\n",
              "    <tr>\n",
              "      <th>2016-09-02</th>\n",
              "      <td>0.010630</td>\n",
              "      <td>-0.032609</td>\n",
              "      <td>NaN</td>\n",
              "      <td>NaN</td>\n",
              "      <td>NaN</td>\n",
              "      <td>NaN</td>\n",
              "      <td>0.045872</td>\n",
              "    </tr>\n",
              "  </tbody>\n",
              "</table>\n",
              "</div>"
            ],
            "text/plain": [
              "            CSAN3.SA  LOGN3.SA  PGMN3.SA  ...  SBFG3.SA  SEQL3.SA  VALE3.SA\n",
              "Date                                      ...                              \n",
              "2016-08-29       NaN       NaN       NaN  ...       NaN       NaN       NaN\n",
              "2016-08-30  0.053279 -0.033186       NaN  ...       NaN       NaN -0.024862\n",
              "2016-08-31 -0.024124 -0.002288       NaN  ...       NaN       NaN -0.040227\n",
              "2016-09-01  0.000266  0.055046       NaN  ...       NaN       NaN  0.029516\n",
              "2016-09-02  0.010630 -0.032609       NaN  ...       NaN       NaN  0.045872\n",
              "\n",
              "[5 rows x 7 columns]"
            ]
          },
          "metadata": {},
          "execution_count": 6
        }
      ]
    },
    {
      "cell_type": "code",
      "metadata": {
        "colab": {
          "base_uri": "https://localhost:8080/"
        },
        "id": "9114If7Qiu1c",
        "outputId": "53b2409f-ea5c-4cb3-ddd0-a8852b484574"
      },
      "source": [
        "retorno_anual = carteira_retorno.mean()*252\n",
        "retorno_anual.head()"
      ],
      "execution_count": null,
      "outputs": [
        {
          "output_type": "execute_result",
          "data": {
            "text/plain": [
              "CSAN3.SA    0.282370\n",
              "LOGN3.SA    0.488018\n",
              "PGMN3.SA    0.263457\n",
              "RRRP3.SA    0.923863\n",
              "SBFG3.SA    0.651001\n",
              "dtype: float64"
            ]
          },
          "metadata": {},
          "execution_count": 7
        }
      ]
    },
    {
      "cell_type": "code",
      "metadata": {
        "colab": {
          "base_uri": "https://localhost:8080/",
          "height": 204
        },
        "id": "V8V9thi1iw_1",
        "outputId": "7aab5f9e-5ee9-4c3c-e81b-201a273f64a5"
      },
      "source": [
        "cov_carteira = carteira_retorno.cov()*252\n",
        "cov_carteira.head()"
      ],
      "execution_count": null,
      "outputs": [
        {
          "output_type": "execute_result",
          "data": {
            "text/html": [
              "<div>\n",
              "<style scoped>\n",
              "    .dataframe tbody tr th:only-of-type {\n",
              "        vertical-align: middle;\n",
              "    }\n",
              "\n",
              "    .dataframe tbody tr th {\n",
              "        vertical-align: top;\n",
              "    }\n",
              "\n",
              "    .dataframe thead th {\n",
              "        text-align: right;\n",
              "    }\n",
              "</style>\n",
              "<table border=\"1\" class=\"dataframe\">\n",
              "  <thead>\n",
              "    <tr style=\"text-align: right;\">\n",
              "      <th></th>\n",
              "      <th>CSAN3.SA</th>\n",
              "      <th>LOGN3.SA</th>\n",
              "      <th>PGMN3.SA</th>\n",
              "      <th>RRRP3.SA</th>\n",
              "      <th>SBFG3.SA</th>\n",
              "      <th>SEQL3.SA</th>\n",
              "      <th>VALE3.SA</th>\n",
              "    </tr>\n",
              "  </thead>\n",
              "  <tbody>\n",
              "    <tr>\n",
              "      <th>CSAN3.SA</th>\n",
              "      <td>0.153561</td>\n",
              "      <td>0.087494</td>\n",
              "      <td>0.027917</td>\n",
              "      <td>0.037352</td>\n",
              "      <td>0.143152</td>\n",
              "      <td>0.010442</td>\n",
              "      <td>0.061539</td>\n",
              "    </tr>\n",
              "    <tr>\n",
              "      <th>LOGN3.SA</th>\n",
              "      <td>0.087494</td>\n",
              "      <td>0.416609</td>\n",
              "      <td>0.037279</td>\n",
              "      <td>0.053763</td>\n",
              "      <td>0.189058</td>\n",
              "      <td>0.025792</td>\n",
              "      <td>0.071722</td>\n",
              "    </tr>\n",
              "    <tr>\n",
              "      <th>PGMN3.SA</th>\n",
              "      <td>0.027917</td>\n",
              "      <td>0.037279</td>\n",
              "      <td>0.108628</td>\n",
              "      <td>0.008734</td>\n",
              "      <td>0.032724</td>\n",
              "      <td>0.016880</td>\n",
              "      <td>0.002218</td>\n",
              "    </tr>\n",
              "    <tr>\n",
              "      <th>RRRP3.SA</th>\n",
              "      <td>0.037352</td>\n",
              "      <td>0.053763</td>\n",
              "      <td>0.008734</td>\n",
              "      <td>0.228047</td>\n",
              "      <td>0.054983</td>\n",
              "      <td>0.037974</td>\n",
              "      <td>0.040001</td>\n",
              "    </tr>\n",
              "    <tr>\n",
              "      <th>SBFG3.SA</th>\n",
              "      <td>0.143152</td>\n",
              "      <td>0.189058</td>\n",
              "      <td>0.032724</td>\n",
              "      <td>0.054983</td>\n",
              "      <td>0.387356</td>\n",
              "      <td>0.030558</td>\n",
              "      <td>0.094885</td>\n",
              "    </tr>\n",
              "  </tbody>\n",
              "</table>\n",
              "</div>"
            ],
            "text/plain": [
              "          CSAN3.SA  LOGN3.SA  PGMN3.SA  RRRP3.SA  SBFG3.SA  SEQL3.SA  VALE3.SA\n",
              "CSAN3.SA  0.153561  0.087494  0.027917  0.037352  0.143152  0.010442  0.061539\n",
              "LOGN3.SA  0.087494  0.416609  0.037279  0.053763  0.189058  0.025792  0.071722\n",
              "PGMN3.SA  0.027917  0.037279  0.108628  0.008734  0.032724  0.016880  0.002218\n",
              "RRRP3.SA  0.037352  0.053763  0.008734  0.228047  0.054983  0.037974  0.040001\n",
              "SBFG3.SA  0.143152  0.189058  0.032724  0.054983  0.387356  0.030558  0.094885"
            ]
          },
          "metadata": {},
          "execution_count": 8
        }
      ]
    },
    {
      "cell_type": "code",
      "metadata": {
        "id": "CHmhrvl-i0a1"
      },
      "source": [
        "num_acoes = len(tickers)"
      ],
      "execution_count": null,
      "outputs": []
    },
    {
      "cell_type": "code",
      "metadata": {
        "id": "gAak70cOi3st"
      },
      "source": [
        "retorno_cart = []\n",
        "peso_acoes = []\n",
        "volatilidade_cart = []\n",
        "sharpe_index = []"
      ],
      "execution_count": null,
      "outputs": []
    },
    {
      "cell_type": "code",
      "metadata": {
        "id": "FqePe8qHi6gN"
      },
      "source": [
        "#simulação de 10000 carteiras\n",
        "for carteiras in range(10000):\n",
        "#criando pesos randomicos\n",
        "  peso = np.random.random(num_acoes)\n",
        "  peso /= np.sum(peso)"
      ],
      "execution_count": null,
      "outputs": []
    },
    {
      "cell_type": "code",
      "metadata": {
        "colab": {
          "base_uri": "https://localhost:8080/"
        },
        "id": "TI-VnZRWi9Hl",
        "outputId": "bc0f2648-c01c-4e39-8973-cd2f96f72ca4"
      },
      "source": [
        "#calculo do retorno\n",
        "retorno = np.dot(retorno_anual, peso)\n",
        "retorno"
      ],
      "execution_count": null,
      "outputs": [
        {
          "output_type": "execute_result",
          "data": {
            "text/plain": [
              "0.502300514074421"
            ]
          },
          "metadata": {},
          "execution_count": 12
        }
      ]
    },
    {
      "cell_type": "code",
      "metadata": {
        "colab": {
          "base_uri": "https://localhost:8080/"
        },
        "id": "nnWM7ps8jCkN",
        "outputId": "17c68594-ba3d-49ce-e3fb-c081c01b275f"
      },
      "source": [
        "#calculo da volatilidade\n",
        "volatilidade = np.sqrt(np.dot(peso.T, np.dot(cov_carteira, peso)))\n",
        "volatilidade"
      ],
      "execution_count": null,
      "outputs": [
        {
          "output_type": "execute_result",
          "data": {
            "text/plain": [
              "0.306295871475458"
            ]
          },
          "metadata": {},
          "execution_count": 13
        }
      ]
    },
    {
      "cell_type": "code",
      "metadata": {
        "colab": {
          "base_uri": "https://localhost:8080/"
        },
        "id": "L7GEpx0mjEll",
        "outputId": "049067a0-3673-478b-941d-bd42547e8158"
      },
      "source": [
        "#calculo sharpe\n",
        "sharpe = retorno / volatilidade\n",
        "sharpe"
      ],
      "execution_count": null,
      "outputs": [
        {
          "output_type": "execute_result",
          "data": {
            "text/plain": [
              "1.6399193095708047"
            ]
          },
          "metadata": {},
          "execution_count": 14
        }
      ]
    },
    {
      "cell_type": "code",
      "metadata": {
        "id": "2CJ4EcPCjGh9"
      },
      "source": [
        "# colocando as informações em listas\n",
        "retorno_cart.append(retorno)\n",
        "volatilidade_cart.append(volatilidade)\n",
        "sharpe_index.append(sharpe)\n",
        "peso_acoes.append(peso)"
      ],
      "execution_count": null,
      "outputs": []
    },
    {
      "cell_type": "code",
      "metadata": {
        "colab": {
          "base_uri": "https://localhost:8080/",
          "height": 80
        },
        "id": "aWX3K3ATjI0F",
        "outputId": "5089525d-05ea-4674-a152-d81d7e2a3c97"
      },
      "source": [
        "# criando um novo data frame com as informações obtidas acima\n",
        "dicionario = {'retorno' : retorno_cart, 'volatilidade': volatilidade_cart, 'sharpe' : sharpe_index}\n",
        "for contar,ticker in enumerate(tickers):\n",
        "    dicionario[ticker + 'peso'] = [peso[contar] for peso in peso_acoes]\n",
        "\n",
        "carteira2 = pd.DataFrame(dicionario)\n",
        "carteira2"
      ],
      "execution_count": null,
      "outputs": [
        {
          "output_type": "execute_result",
          "data": {
            "text/html": [
              "<div>\n",
              "<style scoped>\n",
              "    .dataframe tbody tr th:only-of-type {\n",
              "        vertical-align: middle;\n",
              "    }\n",
              "\n",
              "    .dataframe tbody tr th {\n",
              "        vertical-align: top;\n",
              "    }\n",
              "\n",
              "    .dataframe thead th {\n",
              "        text-align: right;\n",
              "    }\n",
              "</style>\n",
              "<table border=\"1\" class=\"dataframe\">\n",
              "  <thead>\n",
              "    <tr style=\"text-align: right;\">\n",
              "      <th></th>\n",
              "      <th>retorno</th>\n",
              "      <th>volatilidade</th>\n",
              "      <th>sharpe</th>\n",
              "      <th>CSAN3.SApeso</th>\n",
              "      <th>VALE3.SApeso</th>\n",
              "      <th>LOGN3.SApeso</th>\n",
              "      <th>SBFG3.SApeso</th>\n",
              "      <th>RRRP3.SApeso</th>\n",
              "      <th>SEQL3.SApeso</th>\n",
              "      <th>PGMN3.SApeso</th>\n",
              "    </tr>\n",
              "  </thead>\n",
              "  <tbody>\n",
              "    <tr>\n",
              "      <th>0</th>\n",
              "      <td>0.502301</td>\n",
              "      <td>0.306296</td>\n",
              "      <td>1.639919</td>\n",
              "      <td>0.198741</td>\n",
              "      <td>0.198253</td>\n",
              "      <td>0.100378</td>\n",
              "      <td>0.106905</td>\n",
              "      <td>0.127998</td>\n",
              "      <td>0.05846</td>\n",
              "      <td>0.209265</td>\n",
              "    </tr>\n",
              "  </tbody>\n",
              "</table>\n",
              "</div>"
            ],
            "text/plain": [
              "    retorno  volatilidade    sharpe  ...  RRRP3.SApeso  SEQL3.SApeso  PGMN3.SApeso\n",
              "0  0.502301      0.306296  1.639919  ...      0.127998       0.05846      0.209265\n",
              "\n",
              "[1 rows x 10 columns]"
            ]
          },
          "metadata": {},
          "execution_count": 16
        }
      ]
    },
    {
      "cell_type": "code",
      "metadata": {
        "colab": {
          "base_uri": "https://localhost:8080/",
          "height": 270
        },
        "id": "Yb4HniCWjL82",
        "outputId": "97cacc22-cec2-4795-d115-e3518e8e4c86"
      },
      "source": [
        "carteira2.plot.scatter(x='volatilidade', y='retorno', c='sharpe')"
      ],
      "execution_count": null,
      "outputs": [
        {
          "output_type": "execute_result",
          "data": {
            "text/plain": [
              "<matplotlib.axes._subplots.AxesSubplot at 0x7f6a1c71ae90>"
            ]
          },
          "metadata": {},
          "execution_count": 17
        },
        {
          "output_type": "display_data",
          "data": {
            "image/png": "[encoded data removed]",
            "text/plain": [
              "<Figure size 432x288 with 2 Axes>"
            ]
          },
          "metadata": {
            "needs_background": "light"
          }
        }
      ]
    },
    {
      "cell_type": "code",
      "metadata": {
        "colab": {
          "base_uri": "https://localhost:8080/"
        },
        "id": "LHM8Jdmkjo1H",
        "outputId": "7374622f-fd17-4113-f99e-a421b872a3c5"
      },
      "source": [
        "maior_sharpe = carteira2['sharpe'].max()\n",
        "maior_sharpe"
      ],
      "execution_count": null,
      "outputs": [
        {
          "output_type": "execute_result",
          "data": {
            "text/plain": [
              "1.6399193095708047"
            ]
          },
          "metadata": {},
          "execution_count": 18
        }
      ]
    },
    {
      "cell_type": "code",
      "metadata": {
        "colab": {
          "base_uri": "https://localhost:8080/",
          "height": 80
        },
        "id": "E1aECjx2l6wF",
        "outputId": "b4c65ac7-6fa4-46d1-bd61-295fd25520e1"
      },
      "source": [
        "carteira_sharpe = carteira2.loc[carteira2['sharpe'] == maior_sharpe]\n",
        "carteira_sharpe"
      ],
      "execution_count": null,
      "outputs": [
        {
          "output_type": "execute_result",
          "data": {
            "text/html": [
              "<div>\n",
              "<style scoped>\n",
              "    .dataframe tbody tr th:only-of-type {\n",
              "        vertical-align: middle;\n",
              "    }\n",
              "\n",
              "    .dataframe tbody tr th {\n",
              "        vertical-align: top;\n",
              "    }\n",
              "\n",
              "    .dataframe thead th {\n",
              "        text-align: right;\n",
              "    }\n",
              "</style>\n",
              "<table border=\"1\" class=\"dataframe\">\n",
              "  <thead>\n",
              "    <tr style=\"text-align: right;\">\n",
              "      <th></th>\n",
              "      <th>retorno</th>\n",
              "      <th>volatilidade</th>\n",
              "      <th>sharpe</th>\n",
              "      <th>CSAN3.SApeso</th>\n",
              "      <th>VALE3.SApeso</th>\n",
              "      <th>LOGN3.SApeso</th>\n",
              "      <th>SBFG3.SApeso</th>\n",
              "      <th>RRRP3.SApeso</th>\n",
              "      <th>SEQL3.SApeso</th>\n",
              "      <th>PGMN3.SApeso</th>\n",
              "    </tr>\n",
              "  </thead>\n",
              "  <tbody>\n",
              "    <tr>\n",
              "      <th>0</th>\n",
              "      <td>0.502301</td>\n",
              "      <td>0.306296</td>\n",
              "      <td>1.639919</td>\n",
              "      <td>0.198741</td>\n",
              "      <td>0.198253</td>\n",
              "      <td>0.100378</td>\n",
              "      <td>0.106905</td>\n",
              "      <td>0.127998</td>\n",
              "      <td>0.05846</td>\n",
              "      <td>0.209265</td>\n",
              "    </tr>\n",
              "  </tbody>\n",
              "</table>\n",
              "</div>"
            ],
            "text/plain": [
              "    retorno  volatilidade    sharpe  ...  RRRP3.SApeso  SEQL3.SApeso  PGMN3.SApeso\n",
              "0  0.502301      0.306296  1.639919  ...      0.127998       0.05846      0.209265\n",
              "\n",
              "[1 rows x 10 columns]"
            ]
          },
          "metadata": {},
          "execution_count": 19
        }
      ]
    },
    {
      "cell_type": "code",
      "metadata": {
        "colab": {
          "base_uri": "https://localhost:8080/"
        },
        "id": "DVqjeGf-mJd-",
        "outputId": "ab2ec534-36b5-45ea-b82a-3169079a23eb"
      },
      "source": [
        "print(f'A carteira com maior sharpe é {carteira_sharpe.T}')"
      ],
      "execution_count": null,
      "outputs": [
        {
          "output_type": "stream",
          "name": "stdout",
          "text": [
            "A carteira com maior sharpe é                      0\n",
            "retorno       0.502301\n",
            "volatilidade  0.306296\n",
            "sharpe        1.639919\n",
            "CSAN3.SApeso  0.198741\n",
            "VALE3.SApeso  0.198253\n",
            "LOGN3.SApeso  0.100378\n",
            "SBFG3.SApeso  0.106905\n",
            "RRRP3.SApeso  0.127998\n",
            "SEQL3.SApeso  0.058460\n",
            "PGMN3.SApeso  0.209265\n"
          ]
        }
      ]
    },
    {
      "cell_type": "code",
      "metadata": {
        "id": "5lEg-5bqmQ0d"
      },
      "source": [
        "np.random.seed(42)\n",
        "num_ports = 6000\n",
        "all_weights = np.zeros((num_ports, len(carteira_retorno.columns)))\n",
        "ret_arr = np.zeros(num_ports)\n",
        "vol_arr = np.zeros(num_ports)\n",
        "sharpe_arr = np.zeros(num_ports)\n",
        "\n",
        "for x in range(num_ports):\n",
        "    # Weights\n",
        "    weights = np.array(np.random.random(7))\n",
        "    weights = weights/np.sum(weights)\n",
        "    \n",
        "    # Save weights\n",
        "    all_weights[x,:] = weights\n",
        "    \n",
        "    # Expected return\n",
        "    ret_arr[x] = np.sum( (carteira_retorno.mean() * weights * 252))\n",
        "    \n",
        "    # Expected volatility\n",
        "    vol_arr[x] = np.sqrt(np.dot(weights.T, np.dot(carteira_retorno.cov()*252, weights)))\n",
        "    \n",
        "    # Sharpe Ratio\n",
        "    sharpe_arr[x] = ret_arr[x]/vol_arr[x]"
      ],
      "execution_count": null,
      "outputs": []
    },
    {
      "cell_type": "code",
      "metadata": {
        "id": "E911CBvFYrAS"
      },
      "source": [
        ""
      ],
      "execution_count": null,
      "outputs": []
    }
  ]
}